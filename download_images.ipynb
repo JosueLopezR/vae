{
 "cells": [
  {
   "cell_type": "code",
   "execution_count": 1,
   "id": "40a1dcf5-e54d-480a-b215-fc29b2671e97",
   "metadata": {},
   "outputs": [],
   "source": [
    "from icrawler.builtin import GoogleImageCrawler"
   ]
  },
  {
   "cell_type": "code",
   "execution_count": 4,
   "id": "df86c53e-c80b-4030-9bc1-005adc322ddd",
   "metadata": {},
   "outputs": [],
   "source": [
    "def download_images(keyword, num_images, output_dir=\"images\"):\n",
    "    \"\"\"\n",
    "    Download images using icrawler.\n",
    "    \"\"\"\n",
    "    crawler = GoogleImageCrawler(storage={'root_dir': output_dir})\n",
    "    filters = dict(size='large')\n",
    "    crawler.crawl(keyword=keyword, filters=filters, max_num=num_images)\n",
    "    print(f\"Downloaded images for '{keyword}' in '{output_dir}'.\")"
   ]
  },
  {
   "cell_type": "code",
   "execution_count": 5,
   "id": "6c32b6fb-7577-4d10-875b-4e080bc60342",
   "metadata": {},
   "outputs": [
    {
     "name": "stderr",
     "output_type": "stream",
     "text": [
      "2024-12-12 15:48:50,711 - INFO - icrawler.crawler - start crawling...\n",
      "2024-12-12 15:48:50,714 - INFO - icrawler.crawler - starting 1 feeder threads...\n",
      "2024-12-12 15:48:50,715 - INFO - feeder - thread feeder-001 exit\n",
      "2024-12-12 15:48:50,715 - INFO - icrawler.crawler - starting 1 parser threads...\n",
      "2024-12-12 15:48:50,716 - INFO - icrawler.crawler - starting 1 downloader threads...\n",
      "2024-12-12 15:48:52,303 - INFO - parser - parsing result page https://www.google.com/search?q=castle&ijn=0&start=0&tbs=isz%3Al&tbm=isch\n",
      "2024-12-12 15:48:52,863 - INFO - downloader - image #1\thttps://hips.hearstapps.com/hmg-prod/images/bojnice-castle-1603142898.jpg\n",
      "2024-12-12 15:48:53,030 - INFO - downloader - image #2\thttps://hips.hearstapps.com/hmg-prod/images/cha-teau-de-chenonceau-1603148808.jpg\n",
      "2024-12-12 15:48:53,673 - INFO - downloader - image #3\thttps://th-thumbnailer.cdn-si-edu.com/tueFHOM3yJibI268GEke_QvM-Q4=/fit-in/1200x0/https://tf-cmsv2-smithsonianmag-media.s3.amazonaws.com/filer/31/e7/31e70d69-a3b2-4823-9097-2176fd515da6/neuschwanstein-castle.jpg\n",
      "2024-12-12 15:48:53,943 - INFO - downloader - image #4\thttps://foreverkaren.com/wp-content/uploads/2021/01/10-Castles-to-visit-in-England.jpg\n",
      "2024-12-12 15:48:54,073 - INFO - downloader - image #5\thttps://2f1a7f9478.visitscotland.net/binaries/content/gallery/visitscotland/cms-images/2022/09/14/glamis-castle-image.jpg\n",
      "2024-12-12 15:48:54,344 - INFO - downloader - image #6\thttps://imgcdn.stablediffusionweb.com/2024/4/25/78379e85-f511-4b29-9f96-5359410c99c4.jpg\n",
      "2024-12-12 15:48:54,618 - INFO - downloader - image #7\thttps://www.loch-lomond-waterfront.co.uk/wp-content/uploads/2021/08/inverary-castle3-960x1080.jpg\n",
      "2024-12-12 15:48:54,774 - ERROR - downloader - Response status code 404, file https://upload.wikimedia.org/wikipedia/commons/thumb/4/40/Panor%C3%A1mica_Oto%C3%B1o_Alc%C3%A1zar_de_Segovia.jpg\n",
      "2024-12-12 15:48:55,241 - INFO - downloader - image #8\thttps://knightstemplar.co/wp-content/uploads/2023/07/Medieval-Castle-Parts.png\n",
      "2024-12-12 15:48:56,025 - INFO - downloader - image #9\thttps://www.datocms-assets.com/34574/1631185470-neuschwanstein-castle.jpg\n",
      "2024-12-12 15:48:56,304 - INFO - downloader - image #10\thttps://dynamic-media-cdn.tripadvisor.com/media/photo-o/11/dc/ab/61/stunning-aerial-view.jpg\n",
      "2024-12-12 15:48:56,459 - INFO - downloader - image #11\thttps://cdn.britannica.com/47/26447-050-154EA825/Chateau-dukes-Anjou-France-Saumur.jpg\n",
      "2024-12-12 15:48:57,007 - INFO - downloader - image #12\thttps://helloartsy.com/wp-content/uploads/kids/places/how-to-draw-a-medieval-castle/how-to-draw-a-medieval-castle-step-9.jpg\n",
      "2024-12-12 15:48:57,272 - INFO - downloader - image #13\thttps://www.brides.com/thmb/cs7m1sZsuo6GPH-7CqytAYvsETU=/1500x0/filters:no_upscale():max_bytes(150000):strip_icc()/__opt__aboutcom__coeus__resources__content_migration__brides__public__brides-services__production__2018__05__14__5af9c06c368ea641e4c3a24c_GettyImages-520564911-b4bdad7d12a4423dae8c64b69e9c1f1a.jpg\n",
      "2024-12-12 15:48:59,321 - INFO - downloader - image #14\thttps://www.niedersachsen-tourism.com/images/txxj7ampgbq-/xcastle-marienburg-in-the-holiday-region-hannover.jpg\n",
      "2024-12-12 15:48:59,609 - INFO - downloader - image #15\thttps://lp-cms-production.imgix.net/2024-08/France-Chambord-Sylvain-Sonnet-GettyImages-538536861-RFE.jpg\n",
      "2024-12-12 15:49:00,112 - ERROR - downloader - Response status code 404, file https://eu-assets.simpleview-europe.com/visitmonmouthshire/imageresizer/?image=%2Fdbimgs%2FRaglan-Castle-1920x1080.jpg\n",
      "2024-12-12 15:49:01,205 - INFO - downloader - image #16\thttps://www.oliverstravels.com/blog/wp-content/uploads/2024/06/Neuschwanstein-Castle-1.jpg\n",
      "2024-12-12 15:49:06,685 - INFO - downloader - image #17\thttps://media.architecturaldigest.com/photos/66269b6c23bdf18841484087/16:9/w_2560%2Cc_limit/GettyImages-961843938.jpg\n",
      "2024-12-12 15:49:07,215 - INFO - downloader - image #18\thttps://www.exploring-castles.com/image-files/homepage_neuschwanstein.jpg\n",
      "2024-12-12 15:49:10,459 - INFO - downloader - image #19\thttps://www.hohenschwangau.de/fileadmin/_processed_/0/c/csm_Schloss-Hohenschwangau-Herbst-2020-SonyA7III-WAF-Wischnat__15_von_17__6a4737d26e.jpg\n",
      "2024-12-12 15:49:10,808 - INFO - downloader - image #20\thttps://i.ytimg.com/vi/a4_qLnYZuls/maxresdefault.jpg\n",
      "2024-12-12 15:49:11,156 - INFO - downloader - image #21\thttps://images.squarespace-cdn.com/content/v1/6443fc2b2933363add2016d7/1682186878903-8BCD6QXD2TJXQ9955JXY/Medieval%2BCastles.jpg\n",
      "2024-12-12 15:49:12,661 - INFO - downloader - image #22\thttps://i0.wp.com/www.berkeley-castle.com/wp-content/uploads/2024/07/header-image_estate-history.jpg\n",
      "2024-12-12 15:49:12,868 - INFO - downloader - image #23\thttps://cdn.britannica.com/49/254049-050-F923E520/dover-castle-great-britain.jpg\n",
      "2024-12-12 15:49:13,187 - INFO - downloader - image #24\thttps://upload.wikimedia.org/wikipedia/commons/3/31/Corfe_Castle%2C_Dorset.jpg\n",
      "2024-12-12 15:49:14,985 - INFO - downloader - image #25\thttps://www.historichouses.org/app/uploads/2022/02/raby-castle-7th-october-raby-castle-credit-david-grey-copyright-raby-estates.jpg\n",
      "2024-12-12 15:49:15,450 - INFO - downloader - image #26\thttps://media.houseandgarden.co.uk/photos/66fbcdf144638ddd864423ac/16:9/w_2580,c_limit/Carbisdale%20Castle%20EXT1.jpg\n",
      "2024-12-12 15:49:35,791 - INFO - downloader - image #27\thttps://heritageireland.ie/assets/uploads/2020/03/Parkes-Castle-Entrance.jpg\n",
      "2024-12-12 15:49:35,942 - INFO - downloader - image #28\thttps://cdn-imcdd.nitrocdn.com/koMTiefOKQjSXcQYIBSoAQytziAkKXJo/assets/images/optimized/rev-aaa7980/bran-castle.com/wp-content/uploads/2023/02/castelul-bran-1-1.jpg\n",
      "2024-12-12 15:49:36,518 - INFO - downloader - image #29\thttps://static.wixstatic.com/media/ffa001_e03591946e7a4a0581e9243dd921bc46~mv2.jpg\n",
      "2024-12-12 15:49:36,685 - ERROR - downloader - Response status code 404, file https://upload.wikimedia.org/wikipedia/commons/thumb/4/4a/Conwy_Castle%2C_water_view1.jpg\n",
      "2024-12-12 15:49:37,386 - INFO - downloader - image #30\thttps://babylontours.com/wp-content/uploads/2020/07/top-castles-netherlands-1200x726.jpg\n",
      "2024-12-12 15:49:37,936 - INFO - downloader - image #31\thttps://easydrawingguides.com/wp-content/uploads/2017/04/how-to-draw-a-cartoon-castle-featured-image-1200-956x1024.png\n",
      "2024-12-12 15:49:38,524 - INFO - downloader - image #32\thttps://static.saltinourhair.com/wp-content/uploads/2021/01/23104133/most-beautiful-castle-poland.jpg\n",
      "2024-12-12 15:49:38,900 - INFO - downloader - image #33\thttps://media.architecturaldigest.com/photos/66269b6c23bdf18841484087/2:3/w_1332,h_1998,c_limit/GettyImages-961843938.jpg\n",
      "2024-12-12 15:49:39,848 - ERROR - downloader - Response status code 403, file https://lancasterandmorecambebay.com/img/paths/assets/images/old_site_images/Lancaster-Castle-Credit-Dan-Tierney-1024x706-1715092734.jpg\n",
      "2024-12-12 15:49:44,447 - INFO - downloader - image #34\thttps://thirlestanecastle.co.uk/wp-content/uploads/2021/04/PW_Thirlestane-Castle_Estate_5.jpg\n",
      "2024-12-12 15:49:44,967 - INFO - downloader - image #35\thttps://www.playgroundequipment.com/image/data/architecture-3095716_1920.jpg\n",
      "2024-12-12 15:49:46,232 - INFO - downloader - image #36\thttps://www.wintoncastle.co.uk/wp-content/uploads/2024/01/Winton-Estate-2_Good-Aerial-1280px-no-cars-2.jpg\n",
      "2024-12-12 15:49:48,123 - INFO - downloader - image #37\thttps://nt.global.ssl.fastly.net/binaries/content/gallery/website/national/regions/sussex/places/bodiam-castle/library/bodiam-castle-may.jpg\n",
      "2024-12-12 15:49:50,468 - INFO - downloader - image #38\thttps://www.slovakia.com/wp-content/uploads/bigstock-Panorama-View-At-The-Bojnice-C-59393945.jpg\n",
      "2024-12-12 15:49:52,137 - INFO - downloader - image #39\thttps://www.peckfortoncastle.co.uk/app/uploads/2018/08/CastleMobile-Crop-Home@2x.jpg\n",
      "2024-12-12 15:49:52,896 - INFO - downloader - image #40\thttps://www.worldhistory.org/uploads/images/8754.jpg\n",
      "2024-12-12 15:49:53,297 - INFO - downloader - image #41\thttps://i.ytimg.com/vi/tyZNxO1ByXE/maxresdefault.jpg\n",
      "2024-12-12 15:49:54,777 - INFO - downloader - image #42\thttps://www.discoverbritain.com/_gatsby/file/25f727b162f0ab4a171e6bfdafb893d6/3732_8-scaled.jpg\n",
      "2024-12-12 15:49:55,409 - ERROR - downloader - Response status code 400, file https://assets.simpleviewinc.com/simpleview/image/fetch/c_fill,f_jpg\n",
      "2024-12-12 15:49:56,420 - INFO - downloader - image #43\thttps://upload.wikimedia.org/wikipedia/commons/e/e7/Powis_Castle_2016_116_%28cropped%29.jpg\n",
      "2024-12-12 15:49:56,676 - ERROR - downloader - Response status code 500, file https://img.ecmaps.de/remote/.jpg\n",
      "2024-12-12 15:49:56,678 - ERROR - downloader - Exception caught when downloading file https%3A%2F%2Fdam.destination.one%2F2843864%2F03611c9f64a832a601bea6474915a0c1d6e4784019a5e019e0c52e2c948dc6a9%2F.jpg, error: '', remaining retry times: 2\n",
      "2024-12-12 15:49:56,679 - ERROR - downloader - Exception caught when downloading file https%3A%2F%2Fdam.destination.one%2F2843864%2F03611c9f64a832a601bea6474915a0c1d6e4784019a5e019e0c52e2c948dc6a9%2F.jpg, error: '', remaining retry times: 1\n",
      "2024-12-12 15:49:56,681 - ERROR - downloader - Exception caught when downloading file https%3A%2F%2Fdam.destination.one%2F2843864%2F03611c9f64a832a601bea6474915a0c1d6e4784019a5e019e0c52e2c948dc6a9%2F.jpg, error: '', remaining retry times: 0\n",
      "2024-12-12 15:49:58,217 - INFO - downloader - image #44\thttps://www.whitstablecastle.co.uk/wp-content/uploads/2021/11/hero-castle.jpg\n",
      "2024-12-12 15:49:58,723 - ERROR - downloader - Response status code 404, file https://eu-assets.simpleview-europe.com/northernireland/imageresizer/?image=%2Fdmsimgs%2FE0ADE8E8E91F5CF333A0D5ECA1E204443128C7DF.jpg\n",
      "2024-12-12 15:49:59,460 - INFO - downloader - image #45\thttps://www.castlewales.com/conwy01.jpg\n",
      "2024-12-12 15:49:59,994 - INFO - downloader - image #46\thttps://www.celebritycruises.com/blog/content/uploads/2023/09/best-castles-in-ireland-malahide-castle-hero.jpg\n",
      "2024-12-12 15:50:02,177 - INFO - downloader - image #47\thttps://ichef.bbci.co.uk/ace/standard/3840/cpsprodpb/1257/live/dcaa76e0-bada-11ee-ace0-c35c1b4f6d82.jpg\n",
      "2024-12-12 15:50:02,456 - INFO - downloader - image #48\thttps://www.worldhistory.org/uploads/images/8744.jpg\n",
      "2024-12-12 15:50:04,715 - INFO - downloader - image #49\thttp://hiddenarchitecture.net/wp-content/uploads/2021/08/CastlePicAerialShot.jpg\n",
      "2024-12-12 15:50:04,942 - ERROR - downloader - Response status code 403, file https://www.rd.com/wp-content/uploads/2021/08/GettyImages-1229667455-1-scaled.jpg\n",
      "2024-12-12 15:50:05,154 - INFO - downloader - image #50\thttps://images.squarespace-cdn.com/content/v1/5e2762e485bd7133ea716e01/fcdf15e9-3cfc-43ed-b3c2-76b1d0931484/Segovia.jpg\n",
      "2024-12-12 15:50:05,622 - INFO - downloader - image #51\thttps://cdn.britannica.com/23/100423-050-AF2F93FC/Warwick-Castle-town-one-fortifications-Avon-River.jpg\n",
      "2024-12-12 15:50:06,821 - INFO - downloader - image #52\thttps://a0.muscache.com/pictures/259214bc-20b5-4f92-a23e-78e42e353c63.jpg\n",
      "2024-12-12 15:50:08,315 - INFO - downloader - image #53\thttps://www.meath.ie/sites/default/files/2022-11/Boyne-Valley-Aerial-2K-045.jpg\n",
      "2024-12-12 15:50:08,869 - INFO - downloader - image #54\thttps://www.kilronancastle.ie/wp-content/uploads/2024/07/kilronan-castle-homepage.jpg\n",
      "2024-12-12 15:50:09,624 - INFO - parser - no more page urls for thread parser-001 to parse\n",
      "2024-12-12 15:50:09,626 - INFO - parser - thread parser-001 exit\n",
      "2024-12-12 15:50:10,578 - INFO - downloader - image #55\thttps://rockinghamcastle.com/wp-content/uploads/rockingham-castle-with-battlements-fortification.jpg\n",
      "2024-12-12 15:50:11,800 - INFO - downloader - image #56\thttps://www.peckfortoncastle.co.uk/app/uploads/2018/08/Hero1.jpg\n",
      "2024-12-12 15:50:13,164 - INFO - downloader - image #57\thttps://cadw.gov.wales/sites/default/files/styles/image_gallery_full_size/public/2023-04/Caernarfon-Castle-KG-1.jpg\n",
      "2024-12-12 15:50:16,971 - INFO - downloader - image #58\thttps://images.unsplash.com/photo-1515356619894-b89131037e3d?fm=jpg\n",
      "2024-12-12 15:50:21,978 - INFO - downloader - no more download task for thread downloader-001\n",
      "2024-12-12 15:50:21,980 - INFO - downloader - thread downloader-001 exit\n",
      "2024-12-12 15:50:22,809 - INFO - icrawler.crawler - Crawling task done!\n"
     ]
    },
    {
     "name": "stdout",
     "output_type": "stream",
     "text": [
      "Downloaded images for 'castle' in 'images'.\n"
     ]
    }
   ],
   "source": [
    "keyword = \"castle\"  # Replace with your search keyword\n",
    "num_images = 100  # Number of images to download\n",
    "download_images(keyword, num_images)"
   ]
  },
  {
   "cell_type": "code",
   "execution_count": null,
   "id": "0022cd3e-540b-4bd1-b04f-dc0c3030171a",
   "metadata": {},
   "outputs": [],
   "source": []
  }
 ],
 "metadata": {
  "kernelspec": {
   "display_name": "Python 3 (ipykernel)",
   "language": "python",
   "name": "python3"
  },
  "language_info": {
   "codemirror_mode": {
    "name": "ipython",
    "version": 3
   },
   "file_extension": ".py",
   "mimetype": "text/x-python",
   "name": "python",
   "nbconvert_exporter": "python",
   "pygments_lexer": "ipython3",
   "version": "3.8.20"
  }
 },
 "nbformat": 4,
 "nbformat_minor": 5
}
